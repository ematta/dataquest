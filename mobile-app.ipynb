{
 "cells": [
  {
   "cell_type": "markdown",
   "metadata": {},
   "source": [
    "# Project DataQuest 01\n",
    "\n",
    "This is the first of several self guided projects from [DataQuest](https://dataquest.io). The goal of this project to show what type of apps are likely to attract more users on Google Play and the App Store.\n",
    "\n",
    "* [Dataset for Google Play Store](https://www.kaggle.com/datasets/lava18/google-play-store-apps)\n",
    "* [Dataset for Apple Store](https://www.kaggle.com/datasets/ramamet4/app-store-apple-data-set-10k-apps)"
   ]
  },
  {
   "cell_type": "code",
   "execution_count": 43,
   "metadata": {},
   "outputs": [
    {
     "name": "stderr",
     "output_type": "stream",
     "text": [
      "563.90s - pydevd: Sending message related to process being replaced timed-out after 5 seconds\n"
     ]
    },
    {
     "name": "stdout",
     "output_type": "stream",
     "text": [
      "--2024-08-05 12:28:51--  https://dq-content.s3.amazonaws.com/350/googleplaystore.csv\n",
      "Resolving dq-content.s3.amazonaws.com (dq-content.s3.amazonaws.com)... 54.231.231.81, 54.231.225.89, 54.231.138.217, ...\n",
      "Connecting to dq-content.s3.amazonaws.com (dq-content.s3.amazonaws.com)|54.231.231.81|:443... connected.\n",
      "HTTP request sent, awaiting response... 200 OK\n",
      "Length: 1349314 (1.3M) [text/csv]\n",
      "Saving to: ‘googleplaystore.csv’\n",
      "\n",
      "googleplaystore.csv 100%[===================>]   1.29M  4.05MB/s    in 0.3s    \n",
      "\n",
      "2024-08-05 12:28:51 (4.05 MB/s) - ‘googleplaystore.csv’ saved [1349314/1349314]\n",
      "\n"
     ]
    },
    {
     "name": "stderr",
     "output_type": "stream",
     "text": [
      "569.97s - pydevd: Sending message related to process being replaced timed-out after 5 seconds\n"
     ]
    },
    {
     "name": "stdout",
     "output_type": "stream",
     "text": [
      "--2024-08-05 12:28:57--  https://dq-content.s3.amazonaws.com/350/AppleStore.csv\n",
      "Resolving dq-content.s3.amazonaws.com (dq-content.s3.amazonaws.com)... 52.216.251.52, 54.231.225.89, 54.231.138.217, ...\n",
      "Connecting to dq-content.s3.amazonaws.com (dq-content.s3.amazonaws.com)|52.216.251.52|:443... connected.\n",
      "HTTP request sent, awaiting response... 200 OK\n",
      "Length: 725761 (709K) [text/csv]\n",
      "Saving to: ‘AppleStore.csv’\n",
      "\n",
      "AppleStore.csv      100%[===================>] 708.75K  2.50MB/s    in 0.3s    \n",
      "\n",
      "2024-08-05 12:28:57 (2.50 MB/s) - ‘AppleStore.csv’ saved [725761/725761]\n",
      "\n"
     ]
    }
   ],
   "source": [
    "!wget -O googleplaystore.csv https://dq-content.s3.amazonaws.com/350/googleplaystore.csv\n",
    "!wget -O AppleStore.csv https://dq-content.s3.amazonaws.com/350/AppleStore.csv"
   ]
  },
  {
   "cell_type": "code",
   "execution_count": 44,
   "metadata": {},
   "outputs": [],
   "source": [
    "def explore_data(dataset, start=0, end=1, rows_and_columns=False):\n",
    "    dataset_slice = dataset[start:end]\n",
    "    for row in dataset_slice:\n",
    "        print(row)\n",
    "        print('\\n')  # adds a new (empty) line after each row\n",
    "\n",
    "    if rows_and_columns:\n",
    "        print('Number of rows:', len(dataset))\n",
    "        print('Number of columns:', len(dataset[0]))"
   ]
  },
  {
   "cell_type": "code",
   "execution_count": 45,
   "metadata": {},
   "outputs": [],
   "source": [
    "play_store_buffer = open('googleplaystore.csv')\n",
    "app_store_buffer = open('AppleStore.csv')\n",
    "\n",
    "from csv import reader\n",
    "\n",
    "play_store_raw = reader(play_store_buffer)\n",
    "app_store_raw = reader(app_store_buffer)\n",
    "\n",
    "play_store_ds = list(play_store_raw)\n",
    "app_store_ds = list(app_store_raw)"
   ]
  },
  {
   "cell_type": "code",
   "execution_count": 46,
   "metadata": {
    "scrolled": true
   },
   "outputs": [
    {
     "name": "stdout",
     "output_type": "stream",
     "text": [
      "['App', 'Category', 'Rating', 'Reviews', 'Size', 'Installs', 'Type', 'Price', 'Content Rating', 'Genres', 'Last Updated', 'Current Ver', 'Android Ver']\n",
      "\n",
      "\n",
      "['Photo Editor & Candy Camera & Grid & ScrapBook', 'ART_AND_DESIGN', '4.1', '159', '19M', '10,000+', 'Free', '0', 'Everyone', 'Art & Design', 'January 7, 2018', '1.0.0', '4.0.3 and up']\n",
      "\n",
      "\n",
      "['Coloring book moana', 'ART_AND_DESIGN', '3.9', '967', '14M', '500,000+', 'Free', '0', 'Everyone', 'Art & Design;Pretend Play', 'January 15, 2018', '2.0.0', '4.0.3 and up']\n",
      "\n",
      "\n",
      "Number of rows: 10842\n",
      "Number of columns: 13\n"
     ]
    }
   ],
   "source": [
    "explore_data(play_store_ds, 0, 3, True)"
   ]
  },
  {
   "cell_type": "markdown",
   "metadata": {},
   "source": [
    "Columns that currently exist for play_store dataset:\n",
    "\n",
    "| Column Name      | Description                                                           |\n",
    "| ---------------- | --------------------------------------------------------------------- |\n",
    "| App              | The name of the app.                                                  |\n",
    "| Category         | The category to which the app belongs.                                |\n",
    "| Rating           | The average user rating of the app out of 5.                          |\n",
    "| Reviews          | The total number of user reviews.                                     |\n",
    "| Size             | The size of the app.                                                  |\n",
    "| Installs         | The total number of times the app has been installed.                 |\n",
    "| Type             | Indicates whether the app is free or paid.                            |\n",
    "| Price            | The cost of the app (usually 0 for free apps).                        |\n",
    "| Content Rating   | The age rating for the app (e.g., Everyone, Teen, Mature 17+).        |\n",
    "| Genres           | The genres associated with the app.                                   |\n",
    "| Last Updated     | The date when the app was last updated.                               |\n",
    "| Current Ver      | The current version of the app.                                       |\n",
    "| Android Ver      | The minimum Android version required to run the app.                  |\n"
   ]
  },
  {
   "cell_type": "code",
   "execution_count": 47,
   "metadata": {
    "scrolled": true
   },
   "outputs": [
    {
     "name": "stdout",
     "output_type": "stream",
     "text": [
      "['id', 'track_name', 'size_bytes', 'currency', 'price', 'rating_count_tot', 'rating_count_ver', 'user_rating', 'user_rating_ver', 'ver', 'cont_rating', 'prime_genre', 'sup_devices.num', 'ipadSc_urls.num', 'lang.num', 'vpp_lic']\n",
      "\n",
      "\n",
      "['284882215', 'Facebook', '389879808', 'USD', '0.0', '2974676', '212', '3.5', '3.5', '95.0', '4+', 'Social Networking', '37', '1', '29', '1']\n",
      "\n",
      "\n",
      "['389801252', 'Instagram', '113954816', 'USD', '0.0', '2161558', '1289', '4.5', '4.0', '10.23', '12+', 'Photo & Video', '37', '0', '29', '1']\n",
      "\n",
      "\n",
      "['529479190', 'Clash of Clans', '116476928', 'USD', '0.0', '2130805', '579', '4.5', '4.5', '9.24.12', '9+', 'Games', '38', '5', '18', '1']\n",
      "\n",
      "\n",
      "Number of rows: 7198\n",
      "Number of columns: 16\n"
     ]
    }
   ],
   "source": [
    "explore_data(app_store_ds, 0, 4, True)"
   ]
  },
  {
   "cell_type": "markdown",
   "metadata": {},
   "source": [
    "Columns that currently exist for app_store dataset:\n",
    "\n",
    "| Column Name        | Description                                                                 |\n",
    "| ------------------ | --------------------------------------------------------------------------- |\n",
    "| id                 | Unique identifier for the app.                                              |\n",
    "| track_name         | The name of the app.                                                        |\n",
    "| size_bytes         | The size of the app in bytes.                                               |\n",
    "| currency           | The currency in which the price is listed.                                  |\n",
    "| price              | The cost of the app.                                                        |\n",
    "| rating_count_tot   | The total number of user ratings.                                           |\n",
    "| rating_count_ver   | The number of user ratings for the current version.                         |\n",
    "| user_rating        | The average user rating out of 5.                                           |\n",
    "| user_rating_ver    | The average user rating for the current version out of 5.                   |\n",
    "| ver                | The current version of the app.                                             |\n",
    "| cont_rating        | The age rating for the app (e.g., 4+, 9+, 12+).                             |\n",
    "| prime_genre        | The main category of the app.                                               |\n",
    "| sup_devices.num    | The number of devices the app supports.                                     |\n",
    "| ipadSc_urls.num    | The number of iPad screenshots available.                                   |\n",
    "| lang.num           | The number of languages the app supports.                                   |\n",
    "| vpp_lic            | Indicates if the app is available for Volume Purchase Program (VPP) licensing. |\n"
   ]
  },
  {
   "cell_type": "markdown",
   "metadata": {},
   "source": [
    "## Cleaning play store data\n",
    "\n",
    "First thing we need to do is clean the play store and app store of it's:\n",
    "- duplicates\n",
    "- non-free\n",
    "- non-english\n",
    "- incompatible data\n",
    "\n",
    "First we look for \"lengths\", meaning rows that do not match the header length. This is corrupt data. Once we clean it, we print the length of play_store_ds. Once we see that the row count went down by one, we can move on to cleaning duplicates. Duplicates of App Name constitute bad data. We remove them destructively in favor of the first instance of the name in our dataset. Next, we isolate free apps from this dataset, also destructive against non-free apps. We look for text `Free` for applicable rows. Finally, we loop through text and, if we find non-English characters, we delete said row. The next set of code will illustrate this.\n",
    "\n",
    "We repeat the process for the App Store, which should be cleaned in the same way. What we see is a drastic reduction in rows, with playstore starting at 10842 records and appstore starting at 7197 records with both decreasing to 4783 and 2263 records respectively."
   ]
  },
  {
   "cell_type": "code",
   "execution_count": 48,
   "metadata": {},
   "outputs": [],
   "source": [
    "def clean_lengths(ds):\n",
    "    \"\"\"Finds mismatched row lenghts. This is a destructive action!\n",
    "    \"\"\"\n",
    "    for idx in range(len(ds)):\n",
    "        if 0 < idx < len(ds):\n",
    "            if len(ds[0]) != len(ds[idx]):\n",
    "                del ds[idx]\n",
    "\n",
    "def clean_dupes(ds, dupe_idx):\n",
    "    \"\"\"Cleans up rows with duplicate value. This is a destructive action!\n",
    "    \"\"\"\n",
    "    seen = set()\n",
    "    for idx in range(len(ds)):\n",
    "        if 0 < idx < len(ds):\n",
    "            dupe = ds[idx][dupe_idx]\n",
    "            if dupe in seen:\n",
    "                del ds[idx]\n",
    "            else:\n",
    "                seen.add(dupe)\n",
    "\n",
    "def clean_non_free(ds, price_idx):\n",
    "    \"\"\"Finds non-free items based on price index provided. This is a destructive action!\n",
    "    \"\"\"\n",
    "    # Given a price index, remove non-free items\n",
    "    for idx in range(len(ds)):\n",
    "        if 0 < idx < len(ds):\n",
    "            price = ds[idx][price_idx]\n",
    "            if price in ('0', '0.0', 'Free'):\n",
    "                del ds[idx]\n",
    "\n",
    "def clean_non_english(ds, text_idx):\n",
    "    \"\"\"Finds non-english items based on a textual index provided. This is a destructive action!\n",
    "    \"\"\"\n",
    "    for idx in range(len(ds)):\n",
    "        if 0 < idx < len(ds):\n",
    "            text = ds[idx][text_idx]\n",
    "            for t in text:\n",
    "                if(ord(t)) > 127:\n",
    "                    try:\n",
    "                        del ds[idx]\n",
    "                    except:\n",
    "                        pass"
   ]
  },
  {
   "cell_type": "code",
   "execution_count": 49,
   "metadata": {
    "scrolled": true
   },
   "outputs": [
    {
     "name": "stdout",
     "output_type": "stream",
     "text": [
      "Number of rows: 10842\n",
      "Number of columns: 13\n",
      "Cleaning lengths:\n",
      "Number of rows: 10841\n",
      "Number of columns: 13\n",
      "Cleaning dupes:\n",
      "Number of rows: 10033\n",
      "Number of columns: 13\n",
      "Cleaning non-free:\n",
      "Number of rows: 5252\n",
      "Number of columns: 13\n",
      "Cleaning non-english:\n",
      "Number of rows: 4783\n",
      "Number of columns: 13\n"
     ]
    }
   ],
   "source": [
    "# We clean the playstore data\n",
    "explore_data(play_store_ds, 0, 0, True)\n",
    "clean_lengths(play_store_ds)\n",
    "print(\"Cleaning lengths:\")\n",
    "explore_data(play_store_ds, 0, 0, True)\n",
    "print(\"Cleaning dupes:\")\n",
    "clean_dupes(play_store_ds, 0)\n",
    "explore_data(play_store_ds, 0, 0, True)\n",
    "print(\"Cleaning non-free:\")\n",
    "clean_non_free(play_store_ds, 6)\n",
    "explore_data(play_store_ds, 0, 0, True)\n",
    "print(\"Cleaning non-english:\")\n",
    "clean_non_english(play_store_ds, 0)\n",
    "explore_data(play_store_ds, 0, 0, True)"
   ]
  },
  {
   "cell_type": "code",
   "execution_count": 51,
   "metadata": {},
   "outputs": [
    {
     "name": "stdout",
     "output_type": "stream",
     "text": [
      "Number of rows: 3018\n",
      "Number of columns: 16\n",
      "Cleaning lengths:\n",
      "Number of rows: 3018\n",
      "Number of columns: 16\n",
      "Cleaning dupes:\n",
      "Number of rows: 3018\n",
      "Number of columns: 16\n",
      "Cleaning non-free:\n",
      "Number of rows: 2342\n",
      "Number of columns: 16\n",
      "Cleaning non-english:\n",
      "Number of rows: 2263\n",
      "Number of columns: 16\n"
     ]
    }
   ],
   "source": [
    "# We clean the playstore data\n",
    "explore_data(app_store_ds, 0, 0, True)\n",
    "print(\"Cleaning lengths:\")\n",
    "clean_lengths(app_store_ds)\n",
    "explore_data(app_store_ds, 0, 0, True)\n",
    "print(\"Cleaning dupes:\")\n",
    "clean_dupes(app_store_ds, 1)\n",
    "explore_data(app_store_ds, 0, 0, True)\n",
    "print(\"Cleaning non-free:\")\n",
    "clean_non_free(app_store_ds, 4)\n",
    "explore_data(app_store_ds, 0, 0, True)\n",
    "print(\"Cleaning non-english:\")\n",
    "clean_non_english(app_store_ds, 1)\n",
    "explore_data(app_store_ds, 0, 0, True)"
   ]
  },
  {
   "cell_type": "code",
   "execution_count": null,
   "metadata": {},
   "outputs": [],
   "source": []
  },
  {
   "cell_type": "code",
   "execution_count": null,
   "metadata": {},
   "outputs": [],
   "source": []
  }
 ],
 "metadata": {
  "kernelspec": {
   "display_name": "Python 3 (ipykernel)",
   "language": "python",
   "name": "python3"
  },
  "language_info": {
   "codemirror_mode": {
    "name": "ipython",
    "version": 3
   },
   "file_extension": ".py",
   "mimetype": "text/x-python",
   "name": "python",
   "nbconvert_exporter": "python",
   "pygments_lexer": "ipython3",
   "version": "3.12.4"
  }
 },
 "nbformat": 4,
 "nbformat_minor": 4
}
