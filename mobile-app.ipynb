{
 "cells": [
  {
   "cell_type": "markdown",
   "metadata": {},
   "source": [
    "# Project DataQuest 01 (DRAFT)\n",
    "\n",
    "This is the first of several self guided projects from [DataQuest](https://dataquest.io). The goal of this project to show what type of apps are likely to attract more users on Google Play and the App Store.\n",
    "\n",
    "* [Dataset for Google Play Store](https://www.kaggle.com/datasets/lava18/google-play-store-apps)\n",
    "* [Dataset for Apple Store](https://www.kaggle.com/datasets/ramamet4/app-store-apple-data-set-10k-apps)\n",
    "\n",
    "We kick this off by downloading both datasets:"
   ]
  },
  {
   "cell_type": "code",
   "execution_count": 14,
   "metadata": {},
   "outputs": [
    {
     "name": "stdout",
     "output_type": "stream",
     "text": [
      "--2024-08-05 19:54:45--  https://dq-content.s3.amazonaws.com/350/googleplaystore.csv\n",
      "Resolving dq-content.s3.amazonaws.com (dq-content.s3.amazonaws.com)... 3.5.30.157, 52.217.121.241, 3.5.17.187, ...\n",
      "Connecting to dq-content.s3.amazonaws.com (dq-content.s3.amazonaws.com)|3.5.30.157|:443... connected.\n",
      "HTTP request sent, awaiting response... 200 OK\n",
      "Length: 1349314 (1.3M) [text/csv]\n",
      "Saving to: ‘googleplaystore.csv’\n",
      "\n",
      "googleplaystore.csv 100%[===================>]   1.29M  3.08MB/s    in 0.4s    \n",
      "\n",
      "2024-08-05 19:54:46 (3.08 MB/s) - ‘googleplaystore.csv’ saved [1349314/1349314]\n",
      "\n",
      "--2024-08-05 19:54:46--  https://dq-content.s3.amazonaws.com/350/AppleStore.csv\n",
      "Resolving dq-content.s3.amazonaws.com (dq-content.s3.amazonaws.com)... 3.5.2.146, 52.217.121.241, 3.5.17.187, ...\n",
      "Connecting to dq-content.s3.amazonaws.com (dq-content.s3.amazonaws.com)|3.5.2.146|:443... connected.\n",
      "HTTP request sent, awaiting response... 200 OK\n",
      "Length: 725761 (709K) [text/csv]\n",
      "Saving to: ‘AppleStore.csv’\n",
      "\n",
      "AppleStore.csv      100%[===================>] 708.75K  2.59MB/s    in 0.3s    \n",
      "\n",
      "2024-08-05 19:54:47 (2.59 MB/s) - ‘AppleStore.csv’ saved [725761/725761]\n",
      "\n"
     ]
    }
   ],
   "source": [
    "!wget -O googleplaystore.csv https://dq-content.s3.amazonaws.com/350/googleplaystore.csv\n",
    "!wget -O AppleStore.csv https://dq-content.s3.amazonaws.com/350/AppleStore.csv"
   ]
  },
  {
   "cell_type": "markdown",
   "metadata": {},
   "source": [
    "Now let's open the datasets and take a look at the first few rows of each dataset. The following function will help us with that:"
   ]
  },
  {
   "cell_type": "code",
   "execution_count": 15,
   "metadata": {},
   "outputs": [],
   "source": [
    "def explore_data(dataset, start=0, end=1, rows_and_columns=False):\n",
    "    dataset_slice = dataset[start:end]\n",
    "    for row in dataset_slice:\n",
    "        print(row)\n",
    "        print('\\n')  # adds a new (empty) line after each row\n",
    "\n",
    "    if rows_and_columns:\n",
    "        print('Number of rows:', len(dataset))\n",
    "        print('Number of columns:', len(dataset[0]))"
   ]
  },
  {
   "cell_type": "markdown",
   "metadata": {},
   "source": [
    "We now start converting our data into a list of lists and then explore the data. "
   ]
  },
  {
   "cell_type": "code",
   "execution_count": 16,
   "metadata": {},
   "outputs": [],
   "source": [
    "play_store_buffer = open('googleplaystore.csv')\n",
    "app_store_buffer = open('AppleStore.csv')\n",
    "\n",
    "from csv import reader\n",
    "\n",
    "play_store_raw = reader(play_store_buffer)\n",
    "app_store_raw = reader(app_store_buffer)\n",
    "\n",
    "play_store_ds = list(play_store_raw)\n",
    "app_store_ds = list(app_store_raw)"
   ]
  },
  {
   "cell_type": "markdown",
   "metadata": {},
   "source": [
    "Here is an exploration of the first three rows of the Google Play Store dataset:"
   ]
  },
  {
   "cell_type": "code",
   "execution_count": 17,
   "metadata": {
    "scrolled": true
   },
   "outputs": [
    {
     "name": "stdout",
     "output_type": "stream",
     "text": [
      "['App', 'Category', 'Rating', 'Reviews', 'Size', 'Installs', 'Type', 'Price', 'Content Rating', 'Genres', 'Last Updated', 'Current Ver', 'Android Ver']\n",
      "\n",
      "\n",
      "['Photo Editor & Candy Camera & Grid & ScrapBook', 'ART_AND_DESIGN', '4.1', '159', '19M', '10,000+', 'Free', '0', 'Everyone', 'Art & Design', 'January 7, 2018', '1.0.0', '4.0.3 and up']\n",
      "\n",
      "\n",
      "['Coloring book moana', 'ART_AND_DESIGN', '3.9', '967', '14M', '500,000+', 'Free', '0', 'Everyone', 'Art & Design;Pretend Play', 'January 15, 2018', '2.0.0', '4.0.3 and up']\n",
      "\n",
      "\n",
      "Number of rows: 10842\n",
      "Number of columns: 13\n"
     ]
    }
   ],
   "source": [
    "explore_data(play_store_ds, 0, 3, True)"
   ]
  },
  {
   "cell_type": "markdown",
   "metadata": {},
   "source": [
    "Columns that currently exist for play_store dataset:\n",
    "\n",
    "| Index | Column Name      | Description                                                           |\n",
    "| ----- | ---------------- | --------------------------------------------------------------------- |\n",
    "| 0     | App              | The name of the app.                                                  |\n",
    "| 1     | Category         | The category to which the app belongs.                                |\n",
    "| 2     | Rating           | The average user rating of the app out of 5.                          |\n",
    "| 3     | Reviews          | The total number of user reviews.                                     |\n",
    "| 4     | Size             | The size of the app.                                                  |\n",
    "| 5     | Installs         | The total number of times the app has been installed.                 |\n",
    "| 6     | Type             | Indicates whether the app is free or paid.                            |\n",
    "| 7     | Price            | The cost of the app (usually 0 for free apps).                        |\n",
    "| 8     | Content Rating   | The age rating for the app (e.g., Everyone, Teen, Mature 17+).        |\n",
    "| 9     | Genres           | The genres associated with the app.                                   |\n",
    "| 10    | Last Updated     | The date when the app was last updated.                               |\n",
    "| 11    | Current Ver      | The current version of the app.                                       |\n",
    "| 12    | Android Ver      | The minimum Android version required to run the app.                  |\n"
   ]
  },
  {
   "cell_type": "code",
   "execution_count": 18,
   "metadata": {
    "scrolled": true
   },
   "outputs": [
    {
     "name": "stdout",
     "output_type": "stream",
     "text": [
      "['id', 'track_name', 'size_bytes', 'currency', 'price', 'rating_count_tot', 'rating_count_ver', 'user_rating', 'user_rating_ver', 'ver', 'cont_rating', 'prime_genre', 'sup_devices.num', 'ipadSc_urls.num', 'lang.num', 'vpp_lic']\n",
      "\n",
      "\n",
      "['284882215', 'Facebook', '389879808', 'USD', '0.0', '2974676', '212', '3.5', '3.5', '95.0', '4+', 'Social Networking', '37', '1', '29', '1']\n",
      "\n",
      "\n",
      "['389801252', 'Instagram', '113954816', 'USD', '0.0', '2161558', '1289', '4.5', '4.0', '10.23', '12+', 'Photo & Video', '37', '0', '29', '1']\n",
      "\n",
      "\n",
      "['529479190', 'Clash of Clans', '116476928', 'USD', '0.0', '2130805', '579', '4.5', '4.5', '9.24.12', '9+', 'Games', '38', '5', '18', '1']\n",
      "\n",
      "\n",
      "Number of rows: 7198\n",
      "Number of columns: 16\n"
     ]
    }
   ],
   "source": [
    "explore_data(app_store_ds, 0, 4, True)"
   ]
  },
  {
   "cell_type": "markdown",
   "metadata": {},
   "source": [
    "Columns that currently exist for app_store dataset:\n",
    "\n",
    "| Index | Column Name        | Description                                                                 |\n",
    "| ----- | ------------------ | --------------------------------------------------------------------------- |\n",
    "| 0     | id                 | Unique identifier for the app.                                              |\n",
    "| 1     | track_name         | The name of the app.                                                        |\n",
    "| 2     | size_bytes         | The size of the app in bytes.                                               |\n",
    "| 3     | currency           | The currency in which the price is listed.                                  |\n",
    "| 4     | price              | The cost of the app.                                                        |\n",
    "| 5     | rating_count_tot   | The total number of user ratings.                                           |\n",
    "| 6     | rating_count_ver   | The number of user ratings for the current version.                         |\n",
    "| 7     | user_rating        | The average user rating out of 5.                                           |\n",
    "| 8     | user_rating_ver    | The average user rating for the current version out of 5.                   |\n",
    "| 9     | ver                | The current version of the app.                                             |\n",
    "| 10    | cont_rating        | The age rating for the app (e.g., 4+, 9+, 12+).                             |\n",
    "| 11    | prime_genre        | The main category of the app.                                               |\n",
    "| 12    | sup_devices.num    | The number of devices the app supports.                                     |\n",
    "| 13    | ipadSc_urls.num    | The number of iPad screenshots available.                                   |\n",
    "| 14    | lang.num           | The number of languages the app supports.                                   |\n",
    "| 15    | vpp_lic            | Indicates if the app is available for Volume Purchase Program (VPP) licensing. |\n"
   ]
  },
  {
   "cell_type": "markdown",
   "metadata": {},
   "source": [
    "## Cleaning play store data\n",
    "\n",
    "First thing we need to do is clean the play store and app store of it's:\n",
    "- duplicates\n",
    "- non-free\n",
    "- non-english\n",
    "- incompatible data\n",
    "\n",
    "First we look for \"lengths\", meaning rows that do not match the header length. This is corrupt data. Once we clean it, we print the length of play_store_ds. Once we see that the row count went down by one, we can move on to cleaning duplicates. Duplicates of App Name constitute bad data. We remove them destructively in favor of the first instance of the name in our dataset. Next, we isolate free apps from this dataset, also destructive against non-free apps. We look for text `Free` for applicable rows. Finally, we loop through text and, if we find non-English characters, we delete said row. The next set of code will illustrate this.\n",
    "\n",
    "We repeat the process for the App Store, which should be cleaned in the same way. What we see is a drastic reduction in rows, with playstore starting at 10842 records and appstore starting at 7197 records with both decreasing to 4783 and 2263 records respectively."
   ]
  },
  {
   "cell_type": "code",
   "execution_count": 19,
   "metadata": {},
   "outputs": [],
   "source": [
    "def clean_lengths(ds):\n",
    "    \"\"\"Finds mismatched row lenghts. This is a destructive action!\n",
    "    \"\"\"\n",
    "    for idx in range(len(ds)):\n",
    "        if 0 < idx < len(ds):\n",
    "            if len(ds[0]) != len(ds[idx]):\n",
    "                del ds[idx]\n",
    "\n",
    "def clean_dupes(ds, dupe_idx):\n",
    "    \"\"\"Cleans up rows with duplicate value. This is a destructive action!\n",
    "    \"\"\"\n",
    "    seen = set()\n",
    "    for idx in range(len(ds)):\n",
    "        if 0 < idx < len(ds):\n",
    "            dupe = ds[idx][dupe_idx]\n",
    "            if dupe in seen:\n",
    "                del ds[idx]\n",
    "            else:\n",
    "                seen.add(dupe)\n",
    "\n",
    "def clean_non_free(ds, price_idx):\n",
    "    \"\"\"Finds non-free items based on price index provided. This is a destructive action!\n",
    "    \"\"\"\n",
    "    # Given a price index, remove non-free items\n",
    "    for idx in range(len(ds)):\n",
    "        if 0 < idx < len(ds):\n",
    "            price = ds[idx][price_idx]\n",
    "            if price in ('0', '0.0', 'Free'):\n",
    "                del ds[idx]\n",
    "\n",
    "def clean_non_english(ds, text_idx):\n",
    "    \"\"\"Finds non-english items based on a textual index provided. This is a destructive action!\n",
    "    \"\"\"\n",
    "    for idx in range(len(ds)):\n",
    "        if 0 < idx < len(ds):\n",
    "            text = ds[idx][text_idx]\n",
    "            for t in text:\n",
    "                if(ord(t)) > 127:\n",
    "                    try:\n",
    "                        del ds[idx]\n",
    "                    except:\n",
    "                        pass"
   ]
  },
  {
   "cell_type": "code",
   "execution_count": 20,
   "metadata": {
    "scrolled": true
   },
   "outputs": [
    {
     "name": "stdout",
     "output_type": "stream",
     "text": [
      "Number of rows: 10842\n",
      "Number of columns: 13\n",
      "Cleaning lengths:\n",
      "Number of rows: 10841\n",
      "Number of columns: 13\n",
      "Cleaning dupes:\n",
      "Number of rows: 10033\n",
      "Number of columns: 13\n",
      "Cleaning non-free:\n",
      "Number of rows: 5252\n",
      "Number of columns: 13\n",
      "Cleaning non-english:\n",
      "['App', 'Category', 'Rating', 'Reviews', 'Size', 'Installs', 'Type', 'Price', 'Content Rating', 'Genres', 'Last Updated', 'Current Ver', 'Android Ver']\n",
      "\n",
      "\n",
      "['Coloring book moana', 'ART_AND_DESIGN', '3.9', '967', '14M', '500,000+', 'Free', '0', 'Everyone', 'Art & Design;Pretend Play', 'January 15, 2018', '2.0.0', '4.0.3 and up']\n",
      "\n",
      "\n",
      "['Sketch - Draw & Paint', 'ART_AND_DESIGN', '4.5', '215644', '25M', '50,000,000+', 'Free', '0', 'Teen', 'Art & Design', 'June 8, 2018', 'Varies with device', '4.2 and up']\n",
      "\n",
      "\n",
      "Number of rows: 4783\n",
      "Number of columns: 13\n"
     ]
    }
   ],
   "source": [
    "# We clean the playstore data\n",
    "explore_data(play_store_ds, 0, 0, True)\n",
    "clean_lengths(play_store_ds)\n",
    "print(\"Cleaning lengths:\")\n",
    "explore_data(play_store_ds, 0, 0, True)\n",
    "print(\"Cleaning dupes:\")\n",
    "clean_dupes(play_store_ds, 0)\n",
    "explore_data(play_store_ds, 0, 0, True)\n",
    "print(\"Cleaning non-free:\")\n",
    "clean_non_free(play_store_ds, 6)\n",
    "explore_data(play_store_ds, 0, 0, True)\n",
    "print(\"Cleaning non-english:\")\n",
    "clean_non_english(play_store_ds, 0)\n",
    "explore_data(play_store_ds, 0, 3, True)"
   ]
  },
  {
   "cell_type": "markdown",
   "metadata": {},
   "source": [
    "Let's explore the cleaned data. We will start with the Apple Store data. We start by:\n",
    "\n",
    "- exploring\n",
    "- deleting nonconforming data\n",
    "- more exploration\n",
    "- clean duplicates\n",
    "- more exploration\n",
    "- isolate free apps\n",
    "- more exploration\n",
    "- isolate English apps\n",
    "\n",
    "We do this for both Google Play Store and Apple Store datasets."
   ]
  },
  {
   "cell_type": "code",
   "execution_count": 21,
   "metadata": {},
   "outputs": [
    {
     "name": "stdout",
     "output_type": "stream",
     "text": [
      "Number of rows: 7198\n",
      "Number of columns: 16\n",
      "Cleaning lengths:\n",
      "Number of rows: 7198\n",
      "Number of columns: 16\n",
      "Cleaning dupes:\n",
      "Number of rows: 7196\n",
      "Number of columns: 16\n",
      "Cleaning non-free:\n",
      "Number of rows: 4620\n",
      "Number of columns: 16\n",
      "Cleaning non-english:\n",
      "['id', 'track_name', 'size_bytes', 'currency', 'price', 'rating_count_tot', 'rating_count_ver', 'user_rating', 'user_rating_ver', 'ver', 'cont_rating', 'prime_genre', 'sup_devices.num', 'ipadSc_urls.num', 'lang.num', 'vpp_lic']\n",
      "\n",
      "\n",
      "['389801252', 'Instagram', '113954816', 'USD', '0.0', '2161558', '1289', '4.5', '4.0', '10.23', '12+', 'Photo & Video', '37', '0', '29', '1']\n",
      "\n",
      "\n",
      "['420009108', 'Temple Run', '65921024', 'USD', '0.0', '1724546', '3842', '4.5', '4.0', '1.6.2', '9+', 'Games', '40', '5', '1', '1']\n",
      "\n",
      "\n",
      "Number of rows: 3018\n",
      "Number of columns: 16\n"
     ]
    }
   ],
   "source": [
    "# We clean the playstore data\n",
    "explore_data(app_store_ds, 0, 0, True)\n",
    "print(\"Cleaning lengths:\")\n",
    "clean_lengths(app_store_ds)\n",
    "explore_data(app_store_ds, 0, 0, True)\n",
    "print(\"Cleaning dupes:\")\n",
    "clean_dupes(app_store_ds, 1)\n",
    "explore_data(app_store_ds, 0, 0, True)\n",
    "print(\"Cleaning non-free:\")\n",
    "clean_non_free(app_store_ds, 4)\n",
    "explore_data(app_store_ds, 0, 0, True)\n",
    "print(\"Cleaning non-english:\")\n",
    "clean_non_english(app_store_ds, 1)\n",
    "explore_data(app_store_ds, 0, 3, True)"
   ]
  },
  {
   "cell_type": "markdown",
   "metadata": {},
   "source": [
    "## Analysis\n",
    "\n",
    "We want to start getting some useful insights from our data. Let's start by looking at the most common genres for each market. We will do this by creating a frequency table for the prime_genre column of the App Store dataset and the Genres and Category columns of the Google Play Store dataset."
   ]
  },
  {
   "cell_type": "code",
   "execution_count": 22,
   "metadata": {},
   "outputs": [],
   "source": [
    "def freq_table(ds, idx):\n",
    "    table = {}\n",
    "    total = 0\n",
    "    for row in ds[1:]:\n",
    "        total += 1\n",
    "        if row[idx] in table:\n",
    "            table[row[idx]] += 1\n",
    "        else:\n",
    "            table[row[idx]] = 1\n",
    "    table_percentages = {}\n",
    "    for key in table:\n",
    "        percentage = (table[key] / total) * 100\n",
    "        table_percentages[key] = percentage\n",
    "    return table_percentages"
   ]
  },
  {
   "cell_type": "code",
   "execution_count": 23,
   "metadata": {},
   "outputs": [
    {
     "data": {
      "text/plain": [
       "{'Photo & Video': 5.63473649320517,\n",
       " 'Games': 55.61816373881339,\n",
       " 'Social Networking': 1.690420947961551,\n",
       " 'Health & Fitness': 2.8505137553861455,\n",
       " 'Weather': 1.2595293337752733,\n",
       " 'Shopping': 0.8617832283725556,\n",
       " 'News': 0.8617832283725556,\n",
       " 'Navigation': 0.49718263175339744,\n",
       " 'Entertainment': 6.662247265495526,\n",
       " 'Finance': 0.563473649320517,\n",
       " 'Travel': 0.6960556844547563,\n",
       " 'Reference': 0.8286377195889957,\n",
       " 'Sports': 1.2263838249917136,\n",
       " 'Productivity': 3.513423931057342,\n",
       " 'Music': 2.485913158766987,\n",
       " 'Food & Drink': 0.8617832283725556,\n",
       " 'Lifestyle': 1.3589658601259529,\n",
       " 'Utilities': 3.3476963871395427,\n",
       " 'Education': 7.1594298972489225,\n",
       " 'Book': 0.596619158104077,\n",
       " 'Business': 0.9612197547232351,\n",
       " 'Medical': 0.39774610540271793,\n",
       " 'Catalogs': 0.06629101756711965}"
      ]
     },
     "execution_count": 23,
     "metadata": {},
     "output_type": "execute_result"
    }
   ],
   "source": [
    "freq = freq_table(app_store_ds, 11)\n",
    "freq"
   ]
  },
  {
   "cell_type": "markdown",
   "metadata": {},
   "source": [
    "As we can see, the most popular genre for apps on Apple Store is `Games`. Now let's see the same for Google Play Store:"
   ]
  },
  {
   "cell_type": "code",
   "execution_count": 24,
   "metadata": {},
   "outputs": [
    {
     "data": {
      "text/plain": [
       "{'ART_AND_DESIGN': 0.6482643245503974,\n",
       " 'AUTO_AND_VEHICLES': 0.7737348389795065,\n",
       " 'BEAUTY': 0.5018820577164366,\n",
       " 'BOOKS_AND_REFERENCE': 1.8820577164366372,\n",
       " 'BUSINESS': 4.224173985780008,\n",
       " 'COMICS': 0.37641154328732745,\n",
       " 'COMMUNICATION': 3.220409870347135,\n",
       " 'DATING': 1.9238812212463405,\n",
       " 'EDUCATION': 1.3383521539104977,\n",
       " 'ENTERTAINMENT': 1.2128816394813886,\n",
       " 'EVENTS': 0.6482643245503974,\n",
       " 'FINANCE': 3.408615641990799,\n",
       " 'FOOD_AND_DRINK': 1.0455876202425762,\n",
       " 'HEALTH_AND_FITNESS': 3.1994981179422837,\n",
       " 'HOUSE_AND_HOME': 0.6900878293601004,\n",
       " 'LIBRARIES_AND_DEMO': 0.8155583437892095,\n",
       " 'LIFESTYLE': 3.0112923462986196,\n",
       " 'GAME': 10.623170221664575,\n",
       " 'FAMILY': 19.259723964868254,\n",
       " 'MEDICAL': 5.060644081974069,\n",
       " 'SOCIAL': 2.300292764533668,\n",
       " 'SHOPPING': 1.944792973651192,\n",
       " 'PHOTOGRAPHY': 3.304056879966541,\n",
       " 'SPORTS': 3.617733166039314,\n",
       " 'TRAVEL_AND_LOCAL': 2.2166457549142615,\n",
       " 'TOOLS': 8.07193642827269,\n",
       " 'PERSONALIZATION': 3.9732329569217897,\n",
       " 'PRODUCTIVITY': 4.077791718946048,\n",
       " 'PARENTING': 0.5855290673358428,\n",
       " 'WEATHER': 0.8782936010037641,\n",
       " 'VIDEO_PLAYERS': 1.4638226683396067,\n",
       " 'NEWS_AND_MAGAZINES': 2.5930572982015896,\n",
       " 'MAPS_AND_NAVIGATION': 1.1083228774571308}"
      ]
     },
     "execution_count": 24,
     "metadata": {},
     "output_type": "execute_result"
    }
   ],
   "source": [
    "freq = freq_table(play_store_ds, 1)\n",
    "freq"
   ]
  },
  {
   "cell_type": "markdown",
   "metadata": {},
   "source": [
    "Two observations between App Store and Play Store are that the most popular genre for apps on App Store is `Games` while the most popular genre for apps on Play Store is `Family` followed by `Games`.\n",
    "\n",
    "Out of all the genres, which one has the highest rating? Let's look at the dataset and understand ratings. "
   ]
  },
  {
   "cell_type": "code",
   "execution_count": 25,
   "metadata": {},
   "outputs": [],
   "source": [
    "# Get the average rating per genre\n",
    "def avg_rating(ds, genre_idx, rating_idx):\n",
    "    table = {}\n",
    "    for row in ds[1:]:\n",
    "        genre = row[genre_idx]\n",
    "        rating_str = row[rating_idx]\n",
    "        # Replace all instances of +,$ in the string and convert to float\n",
    "        rating = float(rating_str.replace('+', '').replace(',', '').replace('$', ''))\n",
    "        if genre in table:\n",
    "            table[genre][0] += rating\n",
    "            table[genre][1] += 1\n",
    "        else:\n",
    "            table[genre] = [rating, 1]\n",
    "    for key in table:\n",
    "        table[key].append(table[key][0] / table[key][1])\n",
    "    return table"
   ]
  },
  {
   "cell_type": "code",
   "execution_count": 26,
   "metadata": {},
   "outputs": [
    {
     "name": "stdout",
     "output_type": "stream",
     "text": [
      "Ratings {'Photo & Video': [690.0, 170, 4.0588235294117645], 'Games': [6977.0, 1678, 4.15792610250298], 'Social Networking': [186.0, 51, 3.6470588235294117], 'Health & Fitness': [364.0, 86, 4.232558139534884], 'Weather': [151.5, 38, 3.986842105263158], 'Shopping': [108.5, 26, 4.173076923076923], 'News': [84.5, 26, 3.25], 'Navigation': [54.0, 15, 3.6], 'Entertainment': [735.0, 201, 3.656716417910448], 'Finance': [60.0, 17, 3.5294117647058822], 'Travel': [81.0, 21, 3.857142857142857], 'Reference': [103.5, 25, 4.14], 'Sports': [125.5, 37, 3.391891891891892], 'Productivity': [427.5, 106, 4.033018867924528], 'Music': [312.5, 75, 4.166666666666667], 'Food & Drink': [93.5, 26, 3.5961538461538463], 'Lifestyle': [144.0, 41, 3.5121951219512195], 'Utilities': [369.5, 101, 3.6584158415841586], 'Education': [824.5, 216, 3.8171296296296298], 'Book': [73.0, 18, 4.055555555555555], 'Business': [119.0, 29, 4.103448275862069], 'Medical': [47.0, 12, 3.9166666666666665], 'Catalogs': [8.0, 2, 4.0]}\n",
      "App Store Highest rated genre Health & Fitness\n",
      "App Store Highest rated genre score 4.232558139534884\n",
      "Play Store Highest rating count genre SOCIAL\n",
      "Play Store Highest rating count genre average 5891895686.0\n"
     ]
    }
   ],
   "source": [
    "app_store_ratings = avg_rating(app_store_ds, 11, 7)\n",
    "app_store_ratings_max = max(\n",
    "    app_store_ratings, key=lambda x: app_store_ratings[x][2])\n",
    "print(\"Ratings\", app_store_ratings)\n",
    "print(\"App Store Highest rated genre\", app_store_ratings_max)\n",
    "print(\"App Store Highest rated genre score\", app_store_ratings[app_store_ratings_max][2])\n",
    "\n",
    "play_store_rating = avg_rating(play_store_ds, 1, 5)\n",
    "play_store_rating_max = max(\n",
    "    play_store_rating, key=lambda x: play_store_rating[x][2])\n",
    "print(\"Play Store Highest rating count genre\", play_store_rating_max)\n",
    "print(\"Play Store Highest rating count genre average\", play_store_rating[play_store_rating_max][0])"
   ]
  },
  {
   "cell_type": "markdown",
   "metadata": {},
   "source": [
    "In the app store we see a high average rating of 4.23 while the play store has Social rating count (meaning amount of people who found time in their day to write something about the app) is 53562688. \n",
    "\n",
    "## Conclusion\n",
    "\n",
    "The following output show's where our data is leading us.\n",
    "\n",
    "* App Store Highest rated genre Health & Fitness\n",
    "* App Store Highest rated genre score 4.232558139534884\n",
    "* Play Store Highest rating count genre SOCIAL\n",
    "* Play Store Highest rating count genre average 5891895686.0\n",
    "\n",
    "If the goal is to make an app that is popular, the best bet is to make a social app for Google Play Store. If the goal is to make an app that is highly rated, the best bet is to make a Health & Fitness app for the Apple Store. But if you want success in both, you should make a social health and fitness app for both platforms.\n",
    "\n",
    "Of course, this is simplistic, but the assignment was rather sparse. The data is not very deep, and the analysis is not very deep. But it is a good start to understanding the data and what it can tell us."
   ]
  }
 ],
 "metadata": {
  "kernelspec": {
   "display_name": "Python 3 (ipykernel)",
   "language": "python",
   "name": "python3"
  },
  "language_info": {
   "codemirror_mode": {
    "name": "ipython",
    "version": 3
   },
   "file_extension": ".py",
   "mimetype": "text/x-python",
   "name": "python",
   "nbconvert_exporter": "python",
   "pygments_lexer": "ipython3",
   "version": "3.12.4"
  }
 },
 "nbformat": 4,
 "nbformat_minor": 4
}
